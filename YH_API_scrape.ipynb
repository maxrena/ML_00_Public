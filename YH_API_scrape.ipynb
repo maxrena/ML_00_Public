{
 "metadata": {
  "language_info": {
   "codemirror_mode": {
    "name": "ipython",
    "version": 3
   },
   "file_extension": ".py",
   "mimetype": "text/x-python",
   "name": "python",
   "nbconvert_exporter": "python",
   "pygments_lexer": "ipython3",
   "version": "3.9.1-final"
  },
  "orig_nbformat": 2,
  "kernelspec": {
   "name": "python3",
   "display_name": "Python 3.9.1 64-bit",
   "metadata": {
    "interpreter": {
     "hash": "3a8ace4b140d45e5e852824d693f6cfb63dbdabe5501f0833c5582ed9066ac25"
    }
   }
  }
 },
 "nbformat": 4,
 "nbformat_minor": 2,
 "cells": [
  {
   "cell_type": "code",
   "execution_count": 5,
   "metadata": {},
   "outputs": [],
   "source": [
    "import yfinance as yf\n",
    "yf.pdr_override()"
   ]
  },
  {
   "cell_type": "code",
   "execution_count": 8,
   "metadata": {},
   "outputs": [
    {
     "output_type": "execute_result",
     "data": {
      "text/plain": [
       "{'zip': '95014',\n",
       " 'sector': 'Technology',\n",
       " 'fullTimeEmployees': 147000,\n",
       " 'longBusinessSummary': 'Apple Inc. designs, manufactures, and markets smartphones, personal computers, tablets, wearables, and accessories worldwide. It also sells various related services. The company offers iPhone, a line of smartphones; Mac, a line of personal computers; iPad, a line of multi-purpose tablets; and wearables, home, and accessories comprising AirPods, Apple TV, Apple Watch, Beats products, HomePod, iPod touch, and other Apple-branded and third-party accessories. It also provides AppleCare support services; cloud services store services; and operates various platforms, including the App Store, that allow customers to discover and download applications and digital content, such as books, music, video, games, and podcasts. In addition, the company offers various services, such as Apple Arcade, a game subscription service; Apple Music, which offers users a curated listening experience with on-demand radio stations; Apple News+, a subscription news and magazine service; Apple TV+, which offers exclusive original content; Apple Card, a co-branded credit card; and Apple Pay, a cashless payment service, as well as licenses its intellectual property. The company serves consumers, and small and mid-sized businesses; and the education, enterprise, and government markets. It sells and delivers third-party applications for its products through the App Store. The company also sells its products through its retail and online stores, and direct sales force; and third-party cellular network carriers, wholesalers, retailers, and resellers. Apple Inc. was founded in 1977 and is headquartered in Cupertino, California.',\n",
       " 'city': 'Cupertino',\n",
       " 'phone': '408-996-1010',\n",
       " 'state': 'CA',\n",
       " 'country': 'United States',\n",
       " 'companyOfficers': [],\n",
       " 'website': 'http://www.apple.com',\n",
       " 'maxAge': 1,\n",
       " 'address1': 'One Apple Park Way',\n",
       " 'industry': 'Consumer Electronics',\n",
       " 'previousClose': 131.88,\n",
       " 'regularMarketOpen': 132.16,\n",
       " 'twoHundredDayAverage': 110.621475,\n",
       " 'trailingAnnualDividendYield': 0.0060282075,\n",
       " 'payoutRatio': 0.24239999,\n",
       " 'volume24Hr': None,\n",
       " 'regularMarketDayHigh': 132.42,\n",
       " 'navPrice': None,\n",
       " 'averageDailyVolume10Day': 130289014,\n",
       " 'totalAssets': None,\n",
       " 'regularMarketPreviousClose': 131.88,\n",
       " 'fiftyDayAverage': 120.77828,\n",
       " 'trailingAnnualDividendRate': 0.795,\n",
       " 'open': 132.16,\n",
       " 'toCurrency': None,\n",
       " 'averageVolume10days': 130289014,\n",
       " 'expireDate': None,\n",
       " 'yield': None,\n",
       " 'algorithm': None,\n",
       " 'dividendRate': 0.82,\n",
       " 'exDividendDate': 1604620800,\n",
       " 'beta': 1.297637,\n",
       " 'circulatingSupply': None,\n",
       " 'startDate': None,\n",
       " 'regularMarketDayLow': 130.78,\n",
       " 'priceHint': 2,\n",
       " 'currency': 'USD',\n",
       " 'trailingPE': 39.92683,\n",
       " 'regularMarketVolume': 84060162,\n",
       " 'lastMarket': None,\n",
       " 'maxSupply': None,\n",
       " 'openInterest': None,\n",
       " 'marketCap': 2226555715584,\n",
       " 'volumeAllCurrencies': None,\n",
       " 'strikePrice': None,\n",
       " 'averageVolume': 118827626,\n",
       " 'priceToSalesTrailing12Months': 8.11087,\n",
       " 'dayLow': 130.78,\n",
       " 'ask': 131.05,\n",
       " 'ytdReturn': None,\n",
       " 'askSize': 1000,\n",
       " 'volume': 84060162,\n",
       " 'fiftyTwoWeekHigh': 137.98,\n",
       " 'forwardPE': 30.175116,\n",
       " 'fromCurrency': None,\n",
       " 'fiveYearAvgDividendYield': 1.49,\n",
       " 'fiftyTwoWeekLow': 53.1525,\n",
       " 'bid': 131.04,\n",
       " 'tradeable': False,\n",
       " 'dividendYield': 0.0062,\n",
       " 'bidSize': 1000,\n",
       " 'dayHigh': 132.42,\n",
       " 'exchange': 'NMS',\n",
       " 'shortName': 'Apple Inc.',\n",
       " 'longName': 'Apple Inc.',\n",
       " 'exchangeTimezoneName': 'America/New_York',\n",
       " 'exchangeTimezoneShortName': 'EST',\n",
       " 'isEsgPopulated': False,\n",
       " 'gmtOffSetMilliseconds': '-18000000',\n",
       " 'quoteType': 'EQUITY',\n",
       " 'symbol': 'AAPL',\n",
       " 'messageBoardId': 'finmb_24937',\n",
       " 'market': 'us_market',\n",
       " 'annualHoldingsTurnover': None,\n",
       " 'enterpriseToRevenue': 8.282,\n",
       " 'beta3Year': None,\n",
       " 'profitMargins': 0.20914,\n",
       " 'enterpriseToEbitda': 29.395,\n",
       " '52WeekChange': 0.8195993,\n",
       " 'morningStarRiskRating': None,\n",
       " 'forwardEps': 4.34,\n",
       " 'revenueQuarterlyGrowth': None,\n",
       " 'sharesOutstanding': 17102499840,\n",
       " 'fundInceptionDate': None,\n",
       " 'annualReportExpenseRatio': None,\n",
       " 'bookValue': 3.849,\n",
       " 'sharesShort': 89985311,\n",
       " 'sharesPercentSharesOut': 0.0053,\n",
       " 'fundFamily': None,\n",
       " 'lastFiscalYearEnd': 1601078400,\n",
       " 'heldPercentInstitutions': 0.59707,\n",
       " 'netIncomeToCommon': 57410998272,\n",
       " 'trailingEps': 3.28,\n",
       " 'lastDividendValue': 0.205,\n",
       " 'SandP52WeekChange': 0.13807487,\n",
       " 'priceToBook': 34.024426,\n",
       " 'heldPercentInsiders': 0.00066,\n",
       " 'nextFiscalYearEnd': 1664150400,\n",
       " 'mostRecentQuarter': 1601078400,\n",
       " 'shortRatio': 0.82,\n",
       " 'sharesShortPreviousMonthDate': 1604016000,\n",
       " 'floatShares': 16984460162,\n",
       " 'enterpriseValue': 2273532706816,\n",
       " 'threeYearAverageReturn': None,\n",
       " 'lastSplitDate': 1598832000,\n",
       " 'lastSplitFactor': '4:1',\n",
       " 'legalType': None,\n",
       " 'lastDividendDate': 1604620800,\n",
       " 'morningStarOverallRating': None,\n",
       " 'earningsQuarterlyGrowth': -0.074,\n",
       " 'dateShortInterest': 1606694400,\n",
       " 'pegRatio': 2.52,\n",
       " 'lastCapGain': None,\n",
       " 'shortPercentOfFloat': 0.0053,\n",
       " 'sharesShortPriorMonth': 80528396,\n",
       " 'impliedSharesOutstanding': None,\n",
       " 'category': None,\n",
       " 'fiveYearAverageReturn': None,\n",
       " 'regularMarketPrice': 132.16,\n",
       " 'logo_url': 'https://logo.clearbit.com/apple.com'}"
      ]
     },
     "metadata": {},
     "execution_count": 8
    }
   ],
   "source": [
    "aapl = yf.Ticker('AAPL')\n",
    "aapl.info"
   ]
  },
  {
   "cell_type": "code",
   "execution_count": 9,
   "metadata": {},
   "outputs": [],
   "source": [
    "df  =  aapl.history(start=\"2010-01-01\",  end=\"2020-12-20\")"
   ]
  },
  {
   "cell_type": "code",
   "execution_count": 10,
   "metadata": {},
   "outputs": [
    {
     "output_type": "execute_result",
     "data": {
      "text/plain": [
       "                Open      High       Low     Close     Volume  Dividends  \\\n",
       "Date                                                                       \n",
       "2009-12-31  6.566314  6.573091  6.487134  6.492372  352410800        0.0   \n",
       "2010-01-04  6.575557  6.608522  6.543207  6.593426  493729600        0.0   \n",
       "2010-01-05  6.611603  6.642104  6.570011  6.604825  601904800        0.0   \n",
       "2010-01-06  6.604826  6.631014  6.492990  6.499768  552160000        0.0   \n",
       "2010-01-07  6.523799  6.531501  6.440615  6.487752  477131200        0.0   \n",
       "\n",
       "            Stock Splits  \n",
       "Date                      \n",
       "2009-12-31           0.0  \n",
       "2010-01-04           0.0  \n",
       "2010-01-05           0.0  \n",
       "2010-01-06           0.0  \n",
       "2010-01-07           0.0  "
      ],
      "text/html": "<div>\n<style scoped>\n    .dataframe tbody tr th:only-of-type {\n        vertical-align: middle;\n    }\n\n    .dataframe tbody tr th {\n        vertical-align: top;\n    }\n\n    .dataframe thead th {\n        text-align: right;\n    }\n</style>\n<table border=\"1\" class=\"dataframe\">\n  <thead>\n    <tr style=\"text-align: right;\">\n      <th></th>\n      <th>Open</th>\n      <th>High</th>\n      <th>Low</th>\n      <th>Close</th>\n      <th>Volume</th>\n      <th>Dividends</th>\n      <th>Stock Splits</th>\n    </tr>\n    <tr>\n      <th>Date</th>\n      <th></th>\n      <th></th>\n      <th></th>\n      <th></th>\n      <th></th>\n      <th></th>\n      <th></th>\n    </tr>\n  </thead>\n  <tbody>\n    <tr>\n      <th>2009-12-31</th>\n      <td>6.566314</td>\n      <td>6.573091</td>\n      <td>6.487134</td>\n      <td>6.492372</td>\n      <td>352410800</td>\n      <td>0.0</td>\n      <td>0.0</td>\n    </tr>\n    <tr>\n      <th>2010-01-04</th>\n      <td>6.575557</td>\n      <td>6.608522</td>\n      <td>6.543207</td>\n      <td>6.593426</td>\n      <td>493729600</td>\n      <td>0.0</td>\n      <td>0.0</td>\n    </tr>\n    <tr>\n      <th>2010-01-05</th>\n      <td>6.611603</td>\n      <td>6.642104</td>\n      <td>6.570011</td>\n      <td>6.604825</td>\n      <td>601904800</td>\n      <td>0.0</td>\n      <td>0.0</td>\n    </tr>\n    <tr>\n      <th>2010-01-06</th>\n      <td>6.604826</td>\n      <td>6.631014</td>\n      <td>6.492990</td>\n      <td>6.499768</td>\n      <td>552160000</td>\n      <td>0.0</td>\n      <td>0.0</td>\n    </tr>\n    <tr>\n      <th>2010-01-07</th>\n      <td>6.523799</td>\n      <td>6.531501</td>\n      <td>6.440615</td>\n      <td>6.487752</td>\n      <td>477131200</td>\n      <td>0.0</td>\n      <td>0.0</td>\n    </tr>\n  </tbody>\n</table>\n</div>"
     },
     "metadata": {},
     "execution_count": 10
    }
   ],
   "source": [
    "df.head()"
   ]
  },
  {
   "cell_type": "code",
   "execution_count": 11,
   "metadata": {},
   "outputs": [
    {
     "output_type": "execute_result",
     "data": {
      "text/plain": [
       "                  Open        High         Low       Close     Volume  \\\n",
       "Date                                                                    \n",
       "2020-12-14  122.599998  123.349998  121.540001  121.779999   79184500   \n",
       "2020-12-15  124.339996  127.900002  124.129997  127.879997  157572300   \n",
       "2020-12-16  127.410004  128.369995  126.559998  127.809998   98208600   \n",
       "2020-12-17  128.899994  129.580002  128.039993  128.699997   94359800   \n",
       "2020-12-18  128.960007  129.100006  126.120003  126.660004  192541500   \n",
       "\n",
       "            Dividends  Stock Splits  \n",
       "Date                                 \n",
       "2020-12-14        0.0           0.0  \n",
       "2020-12-15        0.0           0.0  \n",
       "2020-12-16        0.0           0.0  \n",
       "2020-12-17        0.0           0.0  \n",
       "2020-12-18        0.0           0.0  "
      ],
      "text/html": "<div>\n<style scoped>\n    .dataframe tbody tr th:only-of-type {\n        vertical-align: middle;\n    }\n\n    .dataframe tbody tr th {\n        vertical-align: top;\n    }\n\n    .dataframe thead th {\n        text-align: right;\n    }\n</style>\n<table border=\"1\" class=\"dataframe\">\n  <thead>\n    <tr style=\"text-align: right;\">\n      <th></th>\n      <th>Open</th>\n      <th>High</th>\n      <th>Low</th>\n      <th>Close</th>\n      <th>Volume</th>\n      <th>Dividends</th>\n      <th>Stock Splits</th>\n    </tr>\n    <tr>\n      <th>Date</th>\n      <th></th>\n      <th></th>\n      <th></th>\n      <th></th>\n      <th></th>\n      <th></th>\n      <th></th>\n    </tr>\n  </thead>\n  <tbody>\n    <tr>\n      <th>2020-12-14</th>\n      <td>122.599998</td>\n      <td>123.349998</td>\n      <td>121.540001</td>\n      <td>121.779999</td>\n      <td>79184500</td>\n      <td>0.0</td>\n      <td>0.0</td>\n    </tr>\n    <tr>\n      <th>2020-12-15</th>\n      <td>124.339996</td>\n      <td>127.900002</td>\n      <td>124.129997</td>\n      <td>127.879997</td>\n      <td>157572300</td>\n      <td>0.0</td>\n      <td>0.0</td>\n    </tr>\n    <tr>\n      <th>2020-12-16</th>\n      <td>127.410004</td>\n      <td>128.369995</td>\n      <td>126.559998</td>\n      <td>127.809998</td>\n      <td>98208600</td>\n      <td>0.0</td>\n      <td>0.0</td>\n    </tr>\n    <tr>\n      <th>2020-12-17</th>\n      <td>128.899994</td>\n      <td>129.580002</td>\n      <td>128.039993</td>\n      <td>128.699997</td>\n      <td>94359800</td>\n      <td>0.0</td>\n      <td>0.0</td>\n    </tr>\n    <tr>\n      <th>2020-12-18</th>\n      <td>128.960007</td>\n      <td>129.100006</td>\n      <td>126.120003</td>\n      <td>126.660004</td>\n      <td>192541500</td>\n      <td>0.0</td>\n      <td>0.0</td>\n    </tr>\n  </tbody>\n</table>\n</div>"
     },
     "metadata": {},
     "execution_count": 11
    }
   ],
   "source": [
    "df.tail()"
   ]
  },
  {
   "cell_type": "code",
   "execution_count": 12,
   "metadata": {},
   "outputs": [
    {
     "output_type": "execute_result",
     "data": {
      "text/plain": [
       "            Dividends  Stock Splits\n",
       "Date                               \n",
       "2012-08-09    0.09464           0.0\n",
       "2012-11-07    0.09464           0.0\n",
       "2013-02-07    0.09464           0.0\n",
       "2013-05-09    0.10893           0.0\n",
       "2013-08-08    0.10893           0.0\n",
       "2013-11-06    0.10893           0.0\n",
       "2014-02-06    0.10893           0.0\n",
       "2014-05-08    0.11750           0.0\n",
       "2014-06-09    0.00000           7.0\n",
       "2014-08-07    0.11750           0.0\n",
       "2014-11-06    0.11750           0.0\n",
       "2015-02-05    0.11750           0.0\n",
       "2015-05-07    0.13000           0.0\n",
       "2015-08-06    0.13000           0.0\n",
       "2015-11-05    0.13000           0.0\n",
       "2016-02-04    0.13000           0.0\n",
       "2016-05-05    0.14250           0.0\n",
       "2016-08-04    0.14250           0.0\n",
       "2016-11-03    0.14250           0.0\n",
       "2017-02-09    0.14250           0.0\n",
       "2017-05-11    0.15750           0.0\n",
       "2017-08-10    0.15750           0.0\n",
       "2017-11-10    0.15750           0.0\n",
       "2018-02-09    0.15750           0.0\n",
       "2018-05-11    0.18250           0.0\n",
       "2018-08-10    0.18250           0.0\n",
       "2018-11-08    0.18250           0.0\n",
       "2019-02-08    0.18250           0.0\n",
       "2019-05-10    0.19250           0.0\n",
       "2019-08-09    0.19250           0.0\n",
       "2019-11-07    0.19250           0.0\n",
       "2020-02-07    0.19250           0.0\n",
       "2020-05-08    0.20500           0.0\n",
       "2020-08-07    0.20500           0.0\n",
       "2020-08-31    0.00000           4.0\n",
       "2020-11-06    0.20500           0.0"
      ],
      "text/html": "<div>\n<style scoped>\n    .dataframe tbody tr th:only-of-type {\n        vertical-align: middle;\n    }\n\n    .dataframe tbody tr th {\n        vertical-align: top;\n    }\n\n    .dataframe thead th {\n        text-align: right;\n    }\n</style>\n<table border=\"1\" class=\"dataframe\">\n  <thead>\n    <tr style=\"text-align: right;\">\n      <th></th>\n      <th>Dividends</th>\n      <th>Stock Splits</th>\n    </tr>\n    <tr>\n      <th>Date</th>\n      <th></th>\n      <th></th>\n    </tr>\n  </thead>\n  <tbody>\n    <tr>\n      <th>2012-08-09</th>\n      <td>0.09464</td>\n      <td>0.0</td>\n    </tr>\n    <tr>\n      <th>2012-11-07</th>\n      <td>0.09464</td>\n      <td>0.0</td>\n    </tr>\n    <tr>\n      <th>2013-02-07</th>\n      <td>0.09464</td>\n      <td>0.0</td>\n    </tr>\n    <tr>\n      <th>2013-05-09</th>\n      <td>0.10893</td>\n      <td>0.0</td>\n    </tr>\n    <tr>\n      <th>2013-08-08</th>\n      <td>0.10893</td>\n      <td>0.0</td>\n    </tr>\n    <tr>\n      <th>2013-11-06</th>\n      <td>0.10893</td>\n      <td>0.0</td>\n    </tr>\n    <tr>\n      <th>2014-02-06</th>\n      <td>0.10893</td>\n      <td>0.0</td>\n    </tr>\n    <tr>\n      <th>2014-05-08</th>\n      <td>0.11750</td>\n      <td>0.0</td>\n    </tr>\n    <tr>\n      <th>2014-06-09</th>\n      <td>0.00000</td>\n      <td>7.0</td>\n    </tr>\n    <tr>\n      <th>2014-08-07</th>\n      <td>0.11750</td>\n      <td>0.0</td>\n    </tr>\n    <tr>\n      <th>2014-11-06</th>\n      <td>0.11750</td>\n      <td>0.0</td>\n    </tr>\n    <tr>\n      <th>2015-02-05</th>\n      <td>0.11750</td>\n      <td>0.0</td>\n    </tr>\n    <tr>\n      <th>2015-05-07</th>\n      <td>0.13000</td>\n      <td>0.0</td>\n    </tr>\n    <tr>\n      <th>2015-08-06</th>\n      <td>0.13000</td>\n      <td>0.0</td>\n    </tr>\n    <tr>\n      <th>2015-11-05</th>\n      <td>0.13000</td>\n      <td>0.0</td>\n    </tr>\n    <tr>\n      <th>2016-02-04</th>\n      <td>0.13000</td>\n      <td>0.0</td>\n    </tr>\n    <tr>\n      <th>2016-05-05</th>\n      <td>0.14250</td>\n      <td>0.0</td>\n    </tr>\n    <tr>\n      <th>2016-08-04</th>\n      <td>0.14250</td>\n      <td>0.0</td>\n    </tr>\n    <tr>\n      <th>2016-11-03</th>\n      <td>0.14250</td>\n      <td>0.0</td>\n    </tr>\n    <tr>\n      <th>2017-02-09</th>\n      <td>0.14250</td>\n      <td>0.0</td>\n    </tr>\n    <tr>\n      <th>2017-05-11</th>\n      <td>0.15750</td>\n      <td>0.0</td>\n    </tr>\n    <tr>\n      <th>2017-08-10</th>\n      <td>0.15750</td>\n      <td>0.0</td>\n    </tr>\n    <tr>\n      <th>2017-11-10</th>\n      <td>0.15750</td>\n      <td>0.0</td>\n    </tr>\n    <tr>\n      <th>2018-02-09</th>\n      <td>0.15750</td>\n      <td>0.0</td>\n    </tr>\n    <tr>\n      <th>2018-05-11</th>\n      <td>0.18250</td>\n      <td>0.0</td>\n    </tr>\n    <tr>\n      <th>2018-08-10</th>\n      <td>0.18250</td>\n      <td>0.0</td>\n    </tr>\n    <tr>\n      <th>2018-11-08</th>\n      <td>0.18250</td>\n      <td>0.0</td>\n    </tr>\n    <tr>\n      <th>2019-02-08</th>\n      <td>0.18250</td>\n      <td>0.0</td>\n    </tr>\n    <tr>\n      <th>2019-05-10</th>\n      <td>0.19250</td>\n      <td>0.0</td>\n    </tr>\n    <tr>\n      <th>2019-08-09</th>\n      <td>0.19250</td>\n      <td>0.0</td>\n    </tr>\n    <tr>\n      <th>2019-11-07</th>\n      <td>0.19250</td>\n      <td>0.0</td>\n    </tr>\n    <tr>\n      <th>2020-02-07</th>\n      <td>0.19250</td>\n      <td>0.0</td>\n    </tr>\n    <tr>\n      <th>2020-05-08</th>\n      <td>0.20500</td>\n      <td>0.0</td>\n    </tr>\n    <tr>\n      <th>2020-08-07</th>\n      <td>0.20500</td>\n      <td>0.0</td>\n    </tr>\n    <tr>\n      <th>2020-08-31</th>\n      <td>0.00000</td>\n      <td>4.0</td>\n    </tr>\n    <tr>\n      <th>2020-11-06</th>\n      <td>0.20500</td>\n      <td>0.0</td>\n    </tr>\n  </tbody>\n</table>\n</div>"
     },
     "metadata": {},
     "execution_count": 12
    }
   ],
   "source": [
    "aapl.actions"
   ]
  },
  {
   "cell_type": "code",
   "execution_count": 13,
   "metadata": {},
   "outputs": [
    {
     "output_type": "execute_result",
     "data": {
      "text/plain": [
       "Date\n",
       "2012-08-09    0.09464\n",
       "2012-11-07    0.09464\n",
       "2013-02-07    0.09464\n",
       "2013-05-09    0.10893\n",
       "2013-08-08    0.10893\n",
       "2013-11-06    0.10893\n",
       "2014-02-06    0.10893\n",
       "2014-05-08    0.11750\n",
       "2014-08-07    0.11750\n",
       "2014-11-06    0.11750\n",
       "2015-02-05    0.11750\n",
       "2015-05-07    0.13000\n",
       "2015-08-06    0.13000\n",
       "2015-11-05    0.13000\n",
       "2016-02-04    0.13000\n",
       "2016-05-05    0.14250\n",
       "2016-08-04    0.14250\n",
       "2016-11-03    0.14250\n",
       "2017-02-09    0.14250\n",
       "2017-05-11    0.15750\n",
       "2017-08-10    0.15750\n",
       "2017-11-10    0.15750\n",
       "2018-02-09    0.15750\n",
       "2018-05-11    0.18250\n",
       "2018-08-10    0.18250\n",
       "2018-11-08    0.18250\n",
       "2019-02-08    0.18250\n",
       "2019-05-10    0.19250\n",
       "2019-08-09    0.19250\n",
       "2019-11-07    0.19250\n",
       "2020-02-07    0.19250\n",
       "2020-05-08    0.20500\n",
       "2020-08-07    0.20500\n",
       "2020-11-06    0.20500\n",
       "Name: Dividends, dtype: float64"
      ]
     },
     "metadata": {},
     "execution_count": 13
    }
   ],
   "source": [
    "aapl.dividends"
   ]
  },
  {
   "cell_type": "code",
   "execution_count": 14,
   "metadata": {},
   "outputs": [
    {
     "output_type": "execute_result",
     "data": {
      "text/plain": [
       "                                     Value\n",
       "2020-10                                   \n",
       "palmOil                              False\n",
       "controversialWeapons                 False\n",
       "gambling                             False\n",
       "socialScore                          12.98\n",
       "nuclear                              False\n",
       "furLeather                           False\n",
       "alcoholic                            False\n",
       "gmo                                  False\n",
       "catholic                             False\n",
       "socialPercentile                      None\n",
       "peerCount                               55\n",
       "governanceScore                      10.18\n",
       "environmentPercentile                 None\n",
       "animalTesting                        False\n",
       "tobacco                              False\n",
       "totalEsg                             23.65\n",
       "highestControversy                       3\n",
       "esgPerformance                    AVG_PERF\n",
       "coal                                 False\n",
       "pesticides                           False\n",
       "adult                                False\n",
       "percentile                           33.05\n",
       "peerGroup              Technology Hardware\n",
       "smallArms                            False\n",
       "environmentScore                      0.49\n",
       "governancePercentile                  None\n",
       "militaryContract                     False"
      ],
      "text/html": "<div>\n<style scoped>\n    .dataframe tbody tr th:only-of-type {\n        vertical-align: middle;\n    }\n\n    .dataframe tbody tr th {\n        vertical-align: top;\n    }\n\n    .dataframe thead th {\n        text-align: right;\n    }\n</style>\n<table border=\"1\" class=\"dataframe\">\n  <thead>\n    <tr style=\"text-align: right;\">\n      <th></th>\n      <th>Value</th>\n    </tr>\n    <tr>\n      <th>2020-10</th>\n      <th></th>\n    </tr>\n  </thead>\n  <tbody>\n    <tr>\n      <th>palmOil</th>\n      <td>False</td>\n    </tr>\n    <tr>\n      <th>controversialWeapons</th>\n      <td>False</td>\n    </tr>\n    <tr>\n      <th>gambling</th>\n      <td>False</td>\n    </tr>\n    <tr>\n      <th>socialScore</th>\n      <td>12.98</td>\n    </tr>\n    <tr>\n      <th>nuclear</th>\n      <td>False</td>\n    </tr>\n    <tr>\n      <th>furLeather</th>\n      <td>False</td>\n    </tr>\n    <tr>\n      <th>alcoholic</th>\n      <td>False</td>\n    </tr>\n    <tr>\n      <th>gmo</th>\n      <td>False</td>\n    </tr>\n    <tr>\n      <th>catholic</th>\n      <td>False</td>\n    </tr>\n    <tr>\n      <th>socialPercentile</th>\n      <td>None</td>\n    </tr>\n    <tr>\n      <th>peerCount</th>\n      <td>55</td>\n    </tr>\n    <tr>\n      <th>governanceScore</th>\n      <td>10.18</td>\n    </tr>\n    <tr>\n      <th>environmentPercentile</th>\n      <td>None</td>\n    </tr>\n    <tr>\n      <th>animalTesting</th>\n      <td>False</td>\n    </tr>\n    <tr>\n      <th>tobacco</th>\n      <td>False</td>\n    </tr>\n    <tr>\n      <th>totalEsg</th>\n      <td>23.65</td>\n    </tr>\n    <tr>\n      <th>highestControversy</th>\n      <td>3</td>\n    </tr>\n    <tr>\n      <th>esgPerformance</th>\n      <td>AVG_PERF</td>\n    </tr>\n    <tr>\n      <th>coal</th>\n      <td>False</td>\n    </tr>\n    <tr>\n      <th>pesticides</th>\n      <td>False</td>\n    </tr>\n    <tr>\n      <th>adult</th>\n      <td>False</td>\n    </tr>\n    <tr>\n      <th>percentile</th>\n      <td>33.05</td>\n    </tr>\n    <tr>\n      <th>peerGroup</th>\n      <td>Technology Hardware</td>\n    </tr>\n    <tr>\n      <th>smallArms</th>\n      <td>False</td>\n    </tr>\n    <tr>\n      <th>environmentScore</th>\n      <td>0.49</td>\n    </tr>\n    <tr>\n      <th>governancePercentile</th>\n      <td>None</td>\n    </tr>\n    <tr>\n      <th>militaryContract</th>\n      <td>False</td>\n    </tr>\n  </tbody>\n</table>\n</div>"
     },
     "metadata": {},
     "execution_count": 14
    }
   ],
   "source": [
    "aapl.sustainability"
   ]
  },
  {
   "cell_type": "code",
   "execution_count": 15,
   "metadata": {},
   "outputs": [
    {
     "output_type": "execute_result",
     "data": {
      "text/plain": [
       "                                  Firm    To Grade From Grade Action\n",
       "Date                                                                \n",
       "2012-02-09 08:17:00  Canaccord Genuity         Buy              main\n",
       "2012-03-08 07:33:00     FBN Securities  Outperform              main\n",
       "2012-03-13 06:08:00          Jefferies         Buy              main\n",
       "2012-03-14 06:13:00     Morgan Stanley  Overweight              main\n",
       "2012-03-14 08:21:00  Canaccord Genuity         Buy              main\n",
       "...                                ...         ...        ...    ...\n",
       "2020-10-30 11:41:26      Raymond James  Outperform              main\n",
       "2020-11-30 11:47:25       Loop Capital         Buy       Hold     up\n",
       "2020-12-09 09:49:54            Wedbush  Outperform              main\n",
       "2020-12-15 16:48:59            Cascend         Buy              main\n",
       "2020-12-16 17:12:04     Morgan Stanley  Overweight              main\n",
       "\n",
       "[755 rows x 4 columns]"
      ],
      "text/html": "<div>\n<style scoped>\n    .dataframe tbody tr th:only-of-type {\n        vertical-align: middle;\n    }\n\n    .dataframe tbody tr th {\n        vertical-align: top;\n    }\n\n    .dataframe thead th {\n        text-align: right;\n    }\n</style>\n<table border=\"1\" class=\"dataframe\">\n  <thead>\n    <tr style=\"text-align: right;\">\n      <th></th>\n      <th>Firm</th>\n      <th>To Grade</th>\n      <th>From Grade</th>\n      <th>Action</th>\n    </tr>\n    <tr>\n      <th>Date</th>\n      <th></th>\n      <th></th>\n      <th></th>\n      <th></th>\n    </tr>\n  </thead>\n  <tbody>\n    <tr>\n      <th>2012-02-09 08:17:00</th>\n      <td>Canaccord Genuity</td>\n      <td>Buy</td>\n      <td></td>\n      <td>main</td>\n    </tr>\n    <tr>\n      <th>2012-03-08 07:33:00</th>\n      <td>FBN Securities</td>\n      <td>Outperform</td>\n      <td></td>\n      <td>main</td>\n    </tr>\n    <tr>\n      <th>2012-03-13 06:08:00</th>\n      <td>Jefferies</td>\n      <td>Buy</td>\n      <td></td>\n      <td>main</td>\n    </tr>\n    <tr>\n      <th>2012-03-14 06:13:00</th>\n      <td>Morgan Stanley</td>\n      <td>Overweight</td>\n      <td></td>\n      <td>main</td>\n    </tr>\n    <tr>\n      <th>2012-03-14 08:21:00</th>\n      <td>Canaccord Genuity</td>\n      <td>Buy</td>\n      <td></td>\n      <td>main</td>\n    </tr>\n    <tr>\n      <th>...</th>\n      <td>...</td>\n      <td>...</td>\n      <td>...</td>\n      <td>...</td>\n    </tr>\n    <tr>\n      <th>2020-10-30 11:41:26</th>\n      <td>Raymond James</td>\n      <td>Outperform</td>\n      <td></td>\n      <td>main</td>\n    </tr>\n    <tr>\n      <th>2020-11-30 11:47:25</th>\n      <td>Loop Capital</td>\n      <td>Buy</td>\n      <td>Hold</td>\n      <td>up</td>\n    </tr>\n    <tr>\n      <th>2020-12-09 09:49:54</th>\n      <td>Wedbush</td>\n      <td>Outperform</td>\n      <td></td>\n      <td>main</td>\n    </tr>\n    <tr>\n      <th>2020-12-15 16:48:59</th>\n      <td>Cascend</td>\n      <td>Buy</td>\n      <td></td>\n      <td>main</td>\n    </tr>\n    <tr>\n      <th>2020-12-16 17:12:04</th>\n      <td>Morgan Stanley</td>\n      <td>Overweight</td>\n      <td></td>\n      <td>main</td>\n    </tr>\n  </tbody>\n</table>\n<p>755 rows × 4 columns</p>\n</div>"
     },
     "metadata": {},
     "execution_count": 15
    }
   ],
   "source": [
    "aapl.recommendations"
   ]
  },
  {
   "cell_type": "code",
   "execution_count": null,
   "metadata": {},
   "outputs": [],
   "source": []
  }
 ]
}